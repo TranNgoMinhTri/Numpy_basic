{
 "cells": [
  {
   "cell_type": "code",
   "execution_count": 1,
   "metadata": {},
   "outputs": [],
   "source": [
    "import numpy as np"
   ]
  },
  {
   "cell_type": "code",
   "execution_count": 4,
   "metadata": {},
   "outputs": [
    {
     "name": "stdout",
     "output_type": "stream",
     "text": [
      "_A:  [[1, 2, 3], [4, 5, 6]]\n",
      "A:  [[1 2 3]\n",
      " [4 5 6]]\n",
      "<class 'numpy.ndarray'>\n"
     ]
    }
   ],
   "source": [
    "from numpy import uint8\n",
    "\n",
    "_A = [[1,2,3],[4,5,6]] #it's just a list\n",
    "\n",
    "A = np.array(_A, dtype=uint8) #create a numpy array from list\n",
    "\n",
    "print(\"_A: \",_A)\n",
    "print(\"A: \", A)\n",
    "print(type(A))"
   ]
  },
  {
   "cell_type": "code",
   "execution_count": 9,
   "metadata": {},
   "outputs": [
    {
     "name": "stdout",
     "output_type": "stream",
     "text": [
      "A[0,1] = 2\n",
      "A[:,1] = [2 5]\n",
      "A[0,:] = [1 2 3]\n"
     ]
    }
   ],
   "source": [
    "print(\"A[0,1] =\", A[0,1]) #value at row 0, colunm 1\n",
    "print(\"A[:,1] =\", A[:,1]) #values at all row, colunm 1\n",
    "print(\"A[0,:] =\", A[0,:]) #values at row 0, all colunm"
   ]
  },
  {
   "cell_type": "code",
   "execution_count": 11,
   "metadata": {},
   "outputs": [
    {
     "name": "stdout",
     "output_type": "stream",
     "text": [
      "A*B = [ 50 122]\n",
      "A*B = [ 50 122]\n"
     ]
    }
   ],
   "source": [
    "_B = [7,8,9]\n",
    "B = np.array(_B, dtype= uint8)\n",
    "\n",
    "print(\"A*B =\", A.dot(B)) #or\n",
    "print(\"A*B =\", A@B)"
   ]
  },
  {
   "cell_type": "code",
   "execution_count": 14,
   "metadata": {},
   "outputs": [
    {
     "name": "stdout",
     "output_type": "stream",
     "text": [
      "A*A_1 = [[  1   4   9]\n",
      " [ 40 100 180]]\n"
     ]
    }
   ],
   "source": [
    "A_1 = [[1,2,3],[10,20,30]]\n",
    "A_1 = np.array(A_1, dtype=uint8)\n",
    "print(\"A*A_1 =\", A*A_1) #elemnt-wise"
   ]
  },
  {
   "cell_type": "code",
   "execution_count": 12,
   "metadata": {},
   "outputs": [
    {
     "name": "stdout",
     "output_type": "stream",
     "text": [
      "[[1. 0. 0.]\n",
      " [0. 1. 0.]\n",
      " [0. 0. 1.]]\n"
     ]
    }
   ],
   "source": [
    "c = np.eye(3) #identify matrix\n",
    "print(c)"
   ]
  },
  {
   "cell_type": "code",
   "execution_count": 20,
   "metadata": {},
   "outputs": [
    {
     "name": "stdout",
     "output_type": "stream",
     "text": [
      "[[ True False  True]\n",
      " [False False  True]\n",
      " [False False False]]\n",
      "[[False  True False]\n",
      " [ True  True False]\n",
      " [ True  True  True]]\n"
     ]
    }
   ],
   "source": [
    "m = [[1,2,1], [4,3,1], [5,2,4]]\n",
    "m = np.array(m, dtype=uint8)\n",
    "print(m == 1)\n",
    "print(m != 1)"
   ]
  },
  {
   "cell_type": "code",
   "execution_count": 21,
   "metadata": {},
   "outputs": [
    {
     "name": "stdout",
     "output_type": "stream",
     "text": [
      "[[-0.94444444  0.44444444]\n",
      " [-0.11111111  0.11111111]\n",
      " [ 0.72222222 -0.22222222]]\n"
     ]
    }
   ],
   "source": [
    "m_inv = np.linalg.pinv(A) #create inverse matrix\n",
    "print(m_inv)"
   ]
  },
  {
   "cell_type": "code",
   "execution_count": 22,
   "metadata": {},
   "outputs": [
    {
     "name": "stdout",
     "output_type": "stream",
     "text": [
      "[[1 4 5]\n",
      " [2 3 2]\n",
      " [1 1 4]]\n"
     ]
    }
   ],
   "source": [
    "m_tp = np.transpose(m) #transpose matrix\n",
    "print(m_tp)"
   ]
  },
  {
   "cell_type": "code",
   "execution_count": 25,
   "metadata": {},
   "outputs": [
    {
     "name": "stdout",
     "output_type": "stream",
     "text": [
      "2\n",
      "3\n"
     ]
    }
   ],
   "source": [
    "print(np.size(A,0)) #number of row\n",
    "print(np.size(A,1)) #number of colunm\n"
   ]
  },
  {
   "cell_type": "code",
   "execution_count": null,
   "metadata": {},
   "outputs": [],
   "source": []
  }
 ],
 "metadata": {
  "kernelspec": {
   "display_name": "Python 3.10.4 64-bit",
   "language": "python",
   "name": "python3"
  },
  "language_info": {
   "codemirror_mode": {
    "name": "ipython",
    "version": 3
   },
   "file_extension": ".py",
   "mimetype": "text/x-python",
   "name": "python",
   "nbconvert_exporter": "python",
   "pygments_lexer": "ipython3",
   "version": "3.10.4"
  },
  "orig_nbformat": 4,
  "vscode": {
   "interpreter": {
    "hash": "31ca1d8e2757b62ce03346936515128aee50d02fa28a1f28f1e5adb83409ac57"
   }
  }
 },
 "nbformat": 4,
 "nbformat_minor": 2
}
